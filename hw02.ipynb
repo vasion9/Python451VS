{
  "cells": [
    {
      "cell_type": "markdown",
      "metadata": {
        "id": "view-in-github",
        "colab_type": "text"
      },
      "source": [
        "<a href=\"https://colab.research.google.com/github/vasion9/Python451VS/blob/main/hw02.ipynb\" target=\"_parent\"><img src=\"https://colab.research.google.com/assets/colab-badge.svg\" alt=\"Open In Colab\"/></a>"
      ]
    },
    {
      "cell_type": "markdown",
      "metadata": {
        "id": "Az6-dTTPZaKS"
      },
      "source": [
        "Special thanks to: https://github.com/justmarkham for sharing the dataset and materials."
      ]
    },
    {
      "cell_type": "code",
      "execution_count": null,
      "metadata": {
        "id": "JXY1RV6CZaKS"
      },
      "outputs": [],
      "source": [
        "import pandas as pd\n",
        "import numpy as np"
      ]
    },
    {
      "cell_type": "markdown",
      "metadata": {
        "id": "twy9DviyZaKT"
      },
      "source": [
        "### Step 3. Read the following URL and assign it to a variable called chipo.    \n",
        "NOTE: It is a TSV file, not CSV. Find out how to read TSV using read_csv in Pandas.\n",
        "\n"
      ]
    },
    {
      "cell_type": "code",
      "execution_count": null,
      "metadata": {
        "id": "A1AAH0_aZaKU"
      },
      "outputs": [],
      "source": [
        "url = 'https://raw.githubusercontent.com/justmarkham/DAT8/master/data/chipotle.tsv'\n",
        "\n",
        "chipo = pd.read_csv(url, sep = '\\t')"
      ]
    },
    {
      "cell_type": "markdown",
      "metadata": {
        "id": "jJ13PCzbZaKU"
      },
      "source": [
        "### Show/print the first **20** entries"
      ]
    },
    {
      "cell_type": "code",
      "execution_count": null,
      "metadata": {
        "scrolled": false,
        "id": "jIouRW4rZaKU",
        "colab": {
          "base_uri": "https://localhost:8080/"
        },
        "outputId": "4c0f7a60-4d91-4b29-fc82-f4041d014b90"
      },
      "outputs": [
        {
          "output_type": "stream",
          "name": "stdout",
          "text": [
            "    order_id  quantity                              item_name  \\\n",
            "0          1         1           Chips and Fresh Tomato Salsa   \n",
            "1          1         1                                   Izze   \n",
            "2          1         1                       Nantucket Nectar   \n",
            "3          1         1  Chips and Tomatillo-Green Chili Salsa   \n",
            "4          2         2                           Chicken Bowl   \n",
            "5          3         1                           Chicken Bowl   \n",
            "6          3         1                          Side of Chips   \n",
            "7          4         1                          Steak Burrito   \n",
            "8          4         1                       Steak Soft Tacos   \n",
            "9          5         1                          Steak Burrito   \n",
            "10         5         1                    Chips and Guacamole   \n",
            "11         6         1                   Chicken Crispy Tacos   \n",
            "12         6         1                     Chicken Soft Tacos   \n",
            "13         7         1                           Chicken Bowl   \n",
            "14         7         1                    Chips and Guacamole   \n",
            "15         8         1  Chips and Tomatillo-Green Chili Salsa   \n",
            "16         8         1                        Chicken Burrito   \n",
            "17         9         1                        Chicken Burrito   \n",
            "18         9         2                            Canned Soda   \n",
            "19        10         1                           Chicken Bowl   \n",
            "\n",
            "                                   choice_description item_price  \n",
            "0                                                 NaN     $2.39   \n",
            "1                                        [Clementine]     $3.39   \n",
            "2                                             [Apple]     $3.39   \n",
            "3                                                 NaN     $2.39   \n",
            "4   [Tomatillo-Red Chili Salsa (Hot), [Black Beans...    $16.98   \n",
            "5   [Fresh Tomato Salsa (Mild), [Rice, Cheese, Sou...    $10.98   \n",
            "6                                                 NaN     $1.69   \n",
            "7   [Tomatillo Red Chili Salsa, [Fajita Vegetables...    $11.75   \n",
            "8   [Tomatillo Green Chili Salsa, [Pinto Beans, Ch...     $9.25   \n",
            "9   [Fresh Tomato Salsa, [Rice, Black Beans, Pinto...     $9.25   \n",
            "10                                                NaN     $4.45   \n",
            "11  [Roasted Chili Corn Salsa, [Fajita Vegetables,...     $8.75   \n",
            "12  [Roasted Chili Corn Salsa, [Rice, Black Beans,...     $8.75   \n",
            "13  [Fresh Tomato Salsa, [Fajita Vegetables, Rice,...    $11.25   \n",
            "14                                                NaN     $4.45   \n",
            "15                                                NaN     $2.39   \n",
            "16  [Tomatillo-Green Chili Salsa (Medium), [Pinto ...     $8.49   \n",
            "17  [Fresh Tomato Salsa (Mild), [Black Beans, Rice...     $8.49   \n",
            "18                                           [Sprite]     $2.18   \n",
            "19  [Tomatillo Red Chili Salsa, [Fajita Vegetables...     $8.75   \n"
          ]
        }
      ],
      "source": [
        "print(chipo.head(20))"
      ]
    },
    {
      "cell_type": "markdown",
      "metadata": {
        "id": "lYqPxFM2ZaKV"
      },
      "source": [
        "### What is the number of observations in the dataset?"
      ]
    },
    {
      "cell_type": "code",
      "execution_count": null,
      "metadata": {
        "id": "5WAbyCVnZaKV",
        "colab": {
          "base_uri": "https://localhost:8080/"
        },
        "outputId": "ec583773-1426-40ee-e67d-af93d0a890d3"
      },
      "outputs": [
        {
          "output_type": "stream",
          "name": "stdout",
          "text": [
            "Number of observations: 4622\n"
          ]
        }
      ],
      "source": [
        "# Solution\n",
        "num_observations = chipo.shape[0]\n",
        "print(\"Number of observations:\", num_observations)"
      ]
    },
    {
      "cell_type": "markdown",
      "metadata": {
        "id": "1VdaeFMUZaKV"
      },
      "source": [
        "### What is the number of columns in the dataset? Names of the columns in the dataset?"
      ]
    },
    {
      "cell_type": "code",
      "execution_count": null,
      "metadata": {
        "id": "orR19Dd1ZaKV",
        "colab": {
          "base_uri": "https://localhost:8080/"
        },
        "outputId": "0309e69d-3e06-406a-f741-ee5bc4057400"
      },
      "outputs": [
        {
          "output_type": "stream",
          "name": "stdout",
          "text": [
            "Number of columns: 5\n",
            "Column names: Index(['order_id', 'quantity', 'item_name', 'choice_description',\n",
            "       'item_price'],\n",
            "      dtype='object')\n"
          ]
        }
      ],
      "source": [
        "num_columns = chipo.shape[1]\n",
        "print(\"Number of columns:\", num_columns)\n",
        "\n",
        "column_names = chipo.columns\n",
        "print(\"Column names:\", column_names)"
      ]
    },
    {
      "cell_type": "markdown",
      "metadata": {
        "id": "Piuenk9EZaKW"
      },
      "source": [
        "### What was the most-ordered item? In how much quantity in total was it ordered?\n",
        "\n"
      ]
    },
    {
      "cell_type": "code",
      "execution_count": null,
      "metadata": {
        "id": "a6RlAJySZaKX",
        "colab": {
          "base_uri": "https://localhost:8080/"
        },
        "outputId": "0ccd5c7a-9672-4f7f-c0de-4af3be033c42"
      },
      "outputs": [
        {
          "output_type": "stream",
          "name": "stdout",
          "text": [
            "Most-ordered item: Chicken Bowl\n",
            "Total quantity ordered: 761\n"
          ]
        }
      ],
      "source": [
        "item_quantity = chipo.groupby('item_name')['quantity'].sum()\n",
        "most_ordered_item = item_quantity.idxmax()\n",
        "total_quantity = item_quantity.max()\n",
        "print(\"Most-ordered item:\", most_ordered_item)\n",
        "print(\"Total quantity ordered:\", total_quantity)"
      ]
    },
    {
      "cell_type": "code",
      "source": [],
      "metadata": {
        "id": "3Jg4pQJD76eh"
      },
      "execution_count": null,
      "outputs": []
    },
    {
      "cell_type": "markdown",
      "metadata": {
        "id": "ZPRQl-aqZaKX"
      },
      "source": [
        "\n",
        "### What was the most ordered item in the choice_description column? How many were ordered?"
      ]
    },
    {
      "cell_type": "code",
      "source": [
        "choice_quantity = chipo.groupby('choice_description')['quantity'].sum()\n",
        "\n",
        "most_ordered_choice = choice_quantity.idxmax()\n",
        "total_quantity = choice_quantity.max()\n",
        "\n",
        "print(\"Most-ordered choice:\", most_ordered_choice)\n",
        "print(\"Total quantity ordered:\", total_quantity)"
      ],
      "metadata": {
        "id": "JCuG3Lzd-GMy",
        "colab": {
          "base_uri": "https://localhost:8080/"
        },
        "outputId": "d6cdaddd-a8df-4fa6-ef43-2cf202457577"
      },
      "execution_count": null,
      "outputs": [
        {
          "output_type": "stream",
          "name": "stdout",
          "text": [
            "Most-ordered choice: [Diet Coke]\n",
            "Total quantity ordered: 159\n"
          ]
        }
      ]
    },
    {
      "cell_type": "markdown",
      "metadata": {
        "id": "sS6VF2J8ZaKX"
      },
      "source": [
        "### How many items were orderd in total?"
      ]
    },
    {
      "cell_type": "code",
      "execution_count": null,
      "metadata": {
        "id": "vH7LCMajZaKX",
        "colab": {
          "base_uri": "https://localhost:8080/"
        },
        "outputId": "666cb7e3-53fa-4939-e0e8-3ae4c989873c"
      },
      "outputs": [
        {
          "output_type": "stream",
          "name": "stdout",
          "text": [
            "Total number of items ordered: 4972\n"
          ]
        }
      ],
      "source": [
        "total_items_ordered = chipo['quantity'].sum()\n",
        "\n",
        "print(\"Total number of items ordered:\", total_items_ordered)\n"
      ]
    },
    {
      "cell_type": "markdown",
      "source": [
        "### Provide a list of unique items offered for sale to eat at Chipotle."
      ],
      "metadata": {
        "id": "QLria4x4PK7g"
      }
    },
    {
      "cell_type": "code",
      "source": [
        "unique_items = chipo['item_name'].unique()\n",
        "\n",
        "print(\"Unique items offered for sale:\")\n",
        "print(unique_items)"
      ],
      "metadata": {
        "id": "oUyiLc4bPLpw",
        "colab": {
          "base_uri": "https://localhost:8080/"
        },
        "outputId": "6b9e5204-c954-42ea-ce33-2e573f4b4a24"
      },
      "execution_count": null,
      "outputs": [
        {
          "output_type": "stream",
          "name": "stdout",
          "text": [
            "Unique items offered for sale:\n",
            "['Chips and Fresh Tomato Salsa' 'Izze' 'Nantucket Nectar'\n",
            " 'Chips and Tomatillo-Green Chili Salsa' 'Chicken Bowl' 'Side of Chips'\n",
            " 'Steak Burrito' 'Steak Soft Tacos' 'Chips and Guacamole'\n",
            " 'Chicken Crispy Tacos' 'Chicken Soft Tacos' 'Chicken Burrito'\n",
            " 'Canned Soda' 'Barbacoa Burrito' 'Carnitas Burrito' 'Carnitas Bowl'\n",
            " 'Bottled Water' 'Chips and Tomatillo Green Chili Salsa' 'Barbacoa Bowl'\n",
            " 'Chips' 'Chicken Salad Bowl' 'Steak Bowl' 'Barbacoa Soft Tacos'\n",
            " 'Veggie Burrito' 'Veggie Bowl' 'Steak Crispy Tacos'\n",
            " 'Chips and Tomatillo Red Chili Salsa' 'Barbacoa Crispy Tacos'\n",
            " 'Veggie Salad Bowl' 'Chips and Roasted Chili-Corn Salsa'\n",
            " 'Chips and Roasted Chili Corn Salsa' 'Carnitas Soft Tacos'\n",
            " 'Chicken Salad' 'Canned Soft Drink' 'Steak Salad Bowl'\n",
            " '6 Pack Soft Drink' 'Chips and Tomatillo-Red Chili Salsa' 'Bowl'\n",
            " 'Burrito' 'Crispy Tacos' 'Carnitas Crispy Tacos' 'Steak Salad'\n",
            " 'Chips and Mild Fresh Tomato Salsa' 'Veggie Soft Tacos'\n",
            " 'Carnitas Salad Bowl' 'Barbacoa Salad Bowl' 'Salad' 'Veggie Crispy Tacos'\n",
            " 'Veggie Salad' 'Carnitas Salad']\n"
          ]
        }
      ]
    },
    {
      "cell_type": "markdown",
      "metadata": {
        "id": "Zg3Zn70UZaKb"
      },
      "source": [
        "### How many different items are sold?"
      ]
    },
    {
      "cell_type": "code",
      "execution_count": null,
      "metadata": {
        "id": "vrdpL059ZaKb",
        "colab": {
          "base_uri": "https://localhost:8080/"
        },
        "outputId": "50162812-2113-4a73-acd5-c59b3521f0b6"
      },
      "outputs": [
        {
          "output_type": "stream",
          "name": "stdout",
          "text": [
            "Number of different items sold: 50\n"
          ]
        }
      ],
      "source": [
        "num_unique_items = chipo['item_name'].nunique()\n",
        "\n",
        "print(\"Number of different items sold:\", num_unique_items)"
      ]
    },
    {
      "cell_type": "markdown",
      "metadata": {
        "id": "F8LZ6RUiZaKY"
      },
      "source": [
        "### How much revenue was generated for the period in the dataset?\n"
      ]
    },
    {
      "cell_type": "code",
      "execution_count": null,
      "metadata": {
        "id": "VkNY1zxRZaKY",
        "colab": {
          "base_uri": "https://localhost:8080/"
        },
        "outputId": "07e31bf7-b7cd-4f77-d055-02fe6ea6fe05"
      },
      "outputs": [
        {
          "output_type": "stream",
          "name": "stdout",
          "text": [
            "Total revenue generated for the period: 39237.02\n"
          ]
        }
      ],
      "source": [
        "chipo['item_price'] = chipo['item_price'].replace('[\\$,]', '', regex=True).astype(float)\n",
        "total_revenue = (chipo['quantity'] * chipo['item_price']).sum()\n",
        "\n",
        "print(\"Total revenue generated for the period:\", total_revenue)\n"
      ]
    },
    {
      "cell_type": "markdown",
      "metadata": {
        "id": "NWXRgUCxZaKa"
      },
      "source": [
        "### What is the average revenue amount per order?"
      ]
    },
    {
      "cell_type": "code",
      "execution_count": null,
      "metadata": {
        "id": "HF1EEx1gZaKa",
        "colab": {
          "base_uri": "https://localhost:8080/"
        },
        "outputId": "a6ad0c14-413f-408c-a8fd-aa5b5b1dfddf"
      },
      "outputs": [
        {
          "output_type": "stream",
          "name": "stdout",
          "text": [
            "Average revenue amount per order: 21.39423118865867\n"
          ]
        }
      ],
      "source": [
        "chipo['item_price'] = chipo['item_price'].replace('[\\$,]', '', regex=True).astype(float)\n",
        "chipo['revenue'] = chipo['quantity'] * chipo['item_price']\n",
        "average_revenue_per_order = chipo.groupby('order_id')['revenue'].sum().mean()\n",
        "\n",
        "print(\"Average revenue amount per order:\", average_revenue_per_order)\n"
      ]
    },
    {
      "cell_type": "markdown",
      "metadata": {
        "id": "-8gqdPUBZaKZ"
      },
      "source": [
        "### How many orders were made in the period?"
      ]
    },
    {
      "cell_type": "code",
      "execution_count": null,
      "metadata": {
        "id": "fw6hbh2PZaKZ",
        "colab": {
          "base_uri": "https://localhost:8080/"
        },
        "outputId": "ea6cdb57-27ae-4ff7-a4d2-4a0fe4c03fdf"
      },
      "outputs": [
        {
          "output_type": "stream",
          "name": "stdout",
          "text": [
            "Number of orders made: 1834\n"
          ]
        }
      ],
      "source": [
        "num_orders = chipo['order_id'].nunique()\n",
        "\n",
        "print(\"Number of orders made:\", num_orders)\n"
      ]
    },
    {
      "cell_type": "markdown",
      "metadata": {
        "id": "3DcqrpKdZaKZ"
      },
      "source": [
        "### How much revenue was generated selling the second most popular item in the menu?\n",
        "\n"
      ]
    },
    {
      "cell_type": "code",
      "source": [
        "chipo['item_price'] = chipo['item_price'].replace('[\\$,]', '', regex=True).astype(float)\n",
        "chipo['revenue'] = chipo['quantity'] * chipo['item_price']\n",
        "item_stats = chipo.groupby('item_name').agg(total_quantity=('quantity', 'sum'), total_revenue=('revenue', 'sum')).reset_index()\n",
        "item_stats = item_stats.sort_values(by='total_quantity', ascending=False)\n",
        "second_most_popular_item = item_stats.iloc[1]['item_name']\n",
        "second_most_popular_revenue = item_stats[item_stats['item_name'] == second_most_popular_item]['total_revenue'].values[0]\n",
        "print(\"Second most popular item:\", second_most_popular_item) # Changed this line to print second_most_popular_item directly\n",
        "print(\"Total revenue generated by this item: $\", round(second_most_popular_revenue, 2)) # Using second_most_popular_revenue for total revenue"
      ],
      "metadata": {
        "colab": {
          "base_uri": "https://localhost:8080/"
        },
        "id": "NjDTFWorP3B0",
        "outputId": "1e59e090-37e3-4308-8441-7e046bf01be6"
      },
      "execution_count": null,
      "outputs": [
        {
          "output_type": "stream",
          "name": "stdout",
          "text": [
            "Second most popular item: Chicken Burrito\n",
            "Total revenue generated by this item: $ 6387.06\n"
          ]
        }
      ]
    }
  ],
  "metadata": {
    "anaconda-cloud": {},
    "kernelspec": {
      "display_name": "Python [default]",
      "language": "python",
      "name": "python2"
    },
    "language_info": {
      "codemirror_mode": {
        "name": "ipython",
        "version": 2
      },
      "file_extension": ".py",
      "mimetype": "text/x-python",
      "name": "python",
      "nbconvert_exporter": "python",
      "pygments_lexer": "ipython2",
      "version": "2.7.12"
    },
    "colab": {
      "provenance": [],
      "include_colab_link": true
    }
  },
  "nbformat": 4,
  "nbformat_minor": 0
}