{
  "nbformat": 4,
  "nbformat_minor": 0,
  "metadata": {
    "colab": {
      "provenance": [],
      "include_colab_link": true
    },
    "kernelspec": {
      "name": "python3",
      "display_name": "Python 3"
    },
    "language_info": {
      "name": "python"
    }
  },
  "cells": [
    {
      "cell_type": "markdown",
      "metadata": {
        "id": "view-in-github",
        "colab_type": "text"
      },
      "source": [
        "<a href=\"https://colab.research.google.com/github/vasion9/Python451VS/blob/main/hw01.ipynb\" target=\"_parent\"><img src=\"https://colab.research.google.com/assets/colab-badge.svg\" alt=\"Open In Colab\"/></a>"
      ]
    },
    {
      "cell_type": "markdown",
      "source": [
        "# HW 01"
      ],
      "metadata": {
        "id": "JaguTAItuC48"
      }
    },
    {
      "cell_type": "markdown",
      "source": [
        "### Q1. Write a program to input your age and print whether you are more than or less than a billion seconds old."
      ],
      "metadata": {
        "id": "8N08oInsuN8g"
      }
    },
    {
      "cell_type": "code",
      "execution_count": null,
      "metadata": {
        "id": "KlPvWPxRuCVz",
        "colab": {
          "base_uri": "https://localhost:8080/"
        },
        "outputId": "06f2d33f-5c2e-4cd3-be1f-5aad37e862e7"
      },
      "outputs": [
        {
          "output_type": "stream",
          "name": "stdout",
          "text": [
            "Enter your age: 25\n",
            "You are less than a billion seconds old.\n"
          ]
        }
      ],
      "source": [
        "def years_to_seconds(years):\n",
        "  days_per_year = 365.25\n",
        "  hours_per_day = 24\n",
        "  minutes_per_hour = 60\n",
        "  seconds_per_minute = 60\n",
        "  # The following line was indented to be within the function scope\n",
        "  seconds = years * days_per_year * hours_per_day * minutes_per_hour * seconds_per_minute\n",
        "  return seconds\n",
        "\n",
        "age = int(input(\"Enter your age: \"))\n",
        "\n",
        "age_in_seconds = years_to_seconds(age)\n",
        "\n",
        "one_billion_seconds = 1_000_000_000\n",
        "\n",
        "if age_in_seconds > one_billion_seconds:\n",
        "    print(\"You are more than a billion seconds old!\")\n",
        "else:\n",
        "    print(\"You are less than a billion seconds old.\")\n"
      ]
    },
    {
      "cell_type": "markdown",
      "source": [
        "### Q2. Create a list with 10 names. Print each name with a Good morning greeting with the name using a conditional loop.\n",
        "\n",
        "For example\n",
        "\n",
        "`name = ['Ashley', 'Brianna', 'Chetan', 'David', 'Eoin', 'Francois', 'Gemma', 'Hameed', 'Ishaan', 'Joanna']`\n",
        "\n",
        "Outputs will be 'Good morning, Ashley', 'Good morning, Brianna', and so on."
      ],
      "metadata": {
        "id": "X3IPYLTgvnDh"
      }
    },
    {
      "cell_type": "code",
      "source": [
        "names = [\"Alice\", \"Bob\", \"Charlie\", \"Diana\", \"Eve\", \"Frank\", \"Grace\", \"Hank\", \"Ivy\", \"Jack\"]\n",
        "\n",
        "for name in names:\n",
        "  print(f\"Good morning, {name}!\")\n",
        "\n"
      ],
      "metadata": {
        "id": "MFG2cvatvmr2",
        "colab": {
          "base_uri": "https://localhost:8080/"
        },
        "outputId": "6211c267-6f9d-428d-ddec-b9c8772a99d8"
      },
      "execution_count": null,
      "outputs": [
        {
          "output_type": "stream",
          "name": "stdout",
          "text": [
            "Good morning, Alice!\n",
            "Good morning, Bob!\n",
            "Good morning, Charlie!\n",
            "Good morning, Diana!\n",
            "Good morning, Eve!\n",
            "Good morning, Frank!\n",
            "Good morning, Grace!\n",
            "Good morning, Hank!\n",
            "Good morning, Ivy!\n",
            "Good morning, Jack!\n"
          ]
        }
      ]
    },
    {
      "cell_type": "markdown",
      "source": [
        "### Q3. Create a list of 15 numbers. Print only those numbers that are divisible by 2."
      ],
      "metadata": {
        "id": "niM878Jrx1bf"
      }
    },
    {
      "cell_type": "code",
      "source": [
        "numbers = [3, 8, 12, 15, 20, 22, 25, 30, 33, 36, 40, 45, 50, 55, 60]\n",
        "for number in numbers:\n",
        "  if number % 2 == 0:\n",
        "    print(number)\n",
        "\n"
      ],
      "metadata": {
        "id": "m7XjkMn8uUY2",
        "colab": {
          "base_uri": "https://localhost:8080/"
        },
        "outputId": "db7fcd8d-a8e5-4350-f0b9-1d5834e66984"
      },
      "execution_count": null,
      "outputs": [
        {
          "output_type": "stream",
          "name": "stdout",
          "text": [
            "8\n",
            "12\n",
            "20\n",
            "22\n",
            "30\n",
            "36\n",
            "40\n",
            "50\n",
            "60\n"
          ]
        }
      ]
    },
    {
      "cell_type": "markdown",
      "source": [
        "### Q4. Print the squared numbers of a list containing at least 10 numbers with a mix of float, integer, and negative numbers. Use the longer method as well as list comprehension.\n",
        "\n",
        "You can either generate your own list of 10 numbers or find use a random number generator."
      ],
      "metadata": {
        "id": "u1kyA9ksy_JI"
      }
    },
    {
      "cell_type": "code",
      "source": [
        "## Enter answer here.\n",
        "\n",
        "nums = [0,-1.25,15.86,-25]\n",
        "method1_squares = []\n",
        "\n",
        "for i in nums:\n",
        "    method1_squares.append(i**2)\n",
        "\n",
        "print(method1_squares)\n",
        "\n",
        "## Now method 2\n",
        "numbers = [4, -3, 2.5, 7, -1.2, 0, 10, -5, 3.7, 6]\n",
        "\n",
        "squared_numbers_long = []\n",
        "for number in numbers:\n",
        "    squared_numbers_long.append(number ** 2)\n",
        "\n",
        "print(\"Squared numbers (using for loop):\", squared_numbers_long)\n",
        "\n",
        "squared_numbers_comp = [number ** 2 for number in numbers]\n",
        "\n",
        "print(\"Squared numbers (using list comprehension):\", squared_numbers_comp)"
      ],
      "metadata": {
        "colab": {
          "base_uri": "https://localhost:8080/"
        },
        "id": "UFHMdDgEuUbD",
        "outputId": "dd1a4a19-42ff-4303-c493-2c7ed8aafecc"
      },
      "execution_count": null,
      "outputs": [
        {
          "output_type": "stream",
          "name": "stdout",
          "text": [
            "[0, 1.5625, 251.53959999999998, 625]\n",
            "Squared numbers (using for loop): [16, 9, 6.25, 49, 1.44, 0, 100, 25, 13.690000000000001, 36]\n",
            "Squared numbers (using list comprehension): [16, 9, 6.25, 49, 1.44, 0, 100, 25, 13.690000000000001, 36]\n"
          ]
        }
      ]
    },
    {
      "cell_type": "markdown",
      "source": [
        "### Q5. Write a program to print a year if it is a leap year."
      ],
      "metadata": {
        "id": "0ZBlFovqA7G9"
      }
    },
    {
      "cell_type": "markdown",
      "source": [],
      "metadata": {
        "id": "OK1ctUfqA6mP"
      }
    },
    {
      "cell_type": "code",
      "source": [
        "year = int(input())\n",
        "\n",
        "if year%4 == 0:\n",
        "    print(year, \"is a leap year\")\n",
        "else:\n",
        "    print(year, \"is not a leap year\")"
      ],
      "metadata": {
        "id": "QwfOIh36uUeM",
        "colab": {
          "base_uri": "https://localhost:8080/"
        },
        "outputId": "7b2f455f-6690-4302-d6a3-d254250e4c13"
      },
      "execution_count": null,
      "outputs": [
        {
          "output_type": "stream",
          "name": "stdout",
          "text": [
            "2025\n",
            "2025 is not a leap year\n"
          ]
        }
      ]
    },
    {
      "cell_type": "markdown",
      "source": [
        "### Q6. Use list comprensions to print all names in a list in upper case."
      ],
      "metadata": {
        "id": "_FRSvLlgArOJ"
      }
    },
    {
      "cell_type": "code",
      "source": [
        "names = [\"Alice\", \"Bob\", \"Charlie\", \"Diana\", \"Eve\", \"Frank\", \"Grace\", \"Hank\", \"Ivy\", \"Jack\"]\n",
        "\n",
        "uppercase_names = [name.upper() for name in names]\n",
        "\n",
        "print(uppercase_names)"
      ],
      "metadata": {
        "id": "CwPIZcFQuUhD",
        "colab": {
          "base_uri": "https://localhost:8080/"
        },
        "outputId": "c618498d-0198-404e-b0f9-6cd424aa85e4"
      },
      "execution_count": null,
      "outputs": [
        {
          "output_type": "stream",
          "name": "stdout",
          "text": [
            "['ALICE', 'BOB', 'CHARLIE', 'DIANA', 'EVE', 'FRANK', 'GRACE', 'HANK', 'IVY', 'JACK']\n"
          ]
        }
      ]
    },
    {
      "cell_type": "markdown",
      "source": [
        "### Q7. Question on NUMPY arrays:\n",
        "\n",
        "a. Create a numpy array called `original` with 100 random numbers. What is the largest number, smallest number, max, min, median, and standard deviation of your array? Print them.\n",
        "\n",
        "HINT: use `np.random.uniform()`. Check online for the correct syntax. `np.random.rand(100)` will give you 100 random numbers of uniform distribution with mean 0 and standard deviation of 1, while we want a mix of larger numbers/integers.\n",
        "\n",
        "b. Now create an array called `orig_sqrt` which contains the square roots of the numbers in the original array.\n",
        "\n",
        "### Q8.  Converting 1D arrays into 2D arrays.\n",
        "\n",
        "a. Convert your original array of 100 random numbers into a 2-dimensional array called `mat_array` with 20 rows and 5 columns. Print this array.\n",
        "\n",
        "b. What is the mean of every column in `mat_array`?\n",
        "\n",
        "c. What is the sum of every row? Create a list of 20 elements that contains the sum of every row in `mat_array`.\n",
        "\n",
        "d. Create the transpose of `mat_array` and call it `transpose_array`. What are the dimensions of this array now? Again, find the mean of each column and the sum of each row.\n",
        "\n",
        "### Q9. Array slicing:\n",
        "\n",
        "a. create a new array which contains the 3rd-10th rows and all columns of `mat_array`. Print.\n",
        "\n",
        "b. Print a new array which contains the the last 5 rows and the last 2 columns of `mat_array`. What is the dimension of this array?\n",
        "\n",
        "c. Print a new array which contains the first 3 rows and last 10 columns of `transpose_array`."
      ],
      "metadata": {
        "id": "ulp3oxOZHt5r"
      }
    },
    {
      "cell_type": "code",
      "source": [
        "# Write your answer here. Feel free to break your answer into different blocks of code rather than using just this one cell. Label your answer neatly.\n",
        "import numpy as np\n",
        "\n",
        "original = np.random.uniform(0, 100, 100)\n",
        "\n",
        "largest_number = np.max(original)\n",
        "smallest_number = np.min(original)\n",
        "max_value = np.max(original)  # Same as largest number\n",
        "min_value = np.min(original)  # Same as smallest number\n",
        "median_value = np.median(original)\n",
        "std_deviation = np.std(original)\n",
        "\n",
        "print(\"Largest number:\", largest_number)\n",
        "print(\"Smallest number:\", smallest_number)\n",
        "print(\"Max value:\", max_value)\n",
        "print(\"Min value:\", min_value)\n",
        "print(\"Median value:\", median_value)\n",
        "print(\"Standard deviation:\", std_deviation)\n",
        "\n",
        "orig_sqrt = np.sqrt(original)\n",
        "\n",
        "print(\"Square Roots Array (orig_sqrt):\", orig_sqrt)\n",
        "\n",
        "\n",
        "\n"
      ],
      "metadata": {
        "id": "M6EBbfr7Iaas",
        "colab": {
          "base_uri": "https://localhost:8080/"
        },
        "outputId": "c7a2e0e6-e1fd-480f-957b-fd97e84aea2b"
      },
      "execution_count": null,
      "outputs": [
        {
          "output_type": "stream",
          "name": "stdout",
          "text": [
            "Largest number: 99.38898438238145\n",
            "Smallest number: 1.3861858357028245\n",
            "Max value: 99.38898438238145\n",
            "Min value: 1.3861858357028245\n",
            "Median value: 47.57329735371185\n",
            "Standard deviation: 28.793059549576434\n",
            "Square Roots Array (orig_sqrt): [8.61649377 8.14778277 4.66002548 9.06616617 3.98835607 8.54693084\n",
            " 8.61228921 5.63117238 5.50351971 8.27172593 8.78510778 9.24847516\n",
            " 8.06828688 5.85907055 5.19122104 7.96002499 9.09835823 8.5474259\n",
            " 6.24081373 4.07872416 4.85643398 5.26437385 1.17736394 6.18179729\n",
            " 4.27406096 7.09654778 6.704304   6.94146418 6.22779574 5.47459895\n",
            " 6.85293147 9.93817896 7.65351547 8.56273702 6.62521901 9.62965499\n",
            " 7.66041136 8.75132333 5.77919733 7.23455007 5.12835691 8.77305244\n",
            " 5.5979329  2.89844172 8.47824743 5.01964425 9.58756479 4.24285118\n",
            " 5.33756373 9.07999181 9.89236326 9.57734188 7.27282817 3.95793078\n",
            " 2.32702636 8.92374464 3.35017058 7.22069198 2.31393437 9.10660497\n",
            " 7.33818002 9.87306765 2.38371679 8.39539419 9.59748514 4.47820076\n",
            " 4.78988699 6.73231781 2.67803068 4.70334325 4.59259571 3.46068818\n",
            " 8.6401249  1.98177858 9.47256103 3.72624523 1.90502294 9.20041826\n",
            " 5.04399653 9.49764522 9.96940241 9.21771012 8.22624746 9.09704678\n",
            " 8.10142645 8.03659127 5.26005698 2.02768333 5.32216197 5.7011644\n",
            " 3.72328891 7.90310958 6.6293181  5.564592   8.63277678 8.18795285\n",
            " 2.39778948 6.97127802 7.87405658 5.22827535]\n"
          ]
        }
      ]
    },
    {
      "cell_type": "code",
      "source": [
        "import numpy as np\n",
        "\n",
        "original = np.random.uniform(0, 100, 100)\n",
        "\n",
        "mat_array = original.reshape(20, 5)\n",
        "\n",
        "print(\"2D Array (mat_array):\")\n",
        "print(mat_array)\n",
        "\n",
        "column_means = np.mean(mat_array, axis=0)\n",
        "\n",
        "print(\"Mean of every column:\")\n",
        "print(column_means)\n",
        "\n",
        "row_sums = np.sum(mat_array, axis=1)\n",
        "\n",
        "row_sums_list = row_sums.tolist()\n",
        "\n",
        "print(\"Sum of every row:\")\n",
        "print(row_sums_list)\n",
        "\n",
        "transpose_array = mat_array.T\n",
        "\n",
        "print(\"Transpose Array (transpose_array):\")\n",
        "print(transpose_array)\n",
        "print(\"Dimensions of transpose_array:\", transpose_array.shape)\n",
        "\n",
        "transpose_column_means = np.mean(transpose_array, axis=0)\n",
        "\n",
        "transpose_row_sums = np.sum(transpose_array, axis=1)\n",
        "\n",
        "print(\"Mean of every column in transpose_array:\")\n",
        "print(transpose_column_means)\n",
        "print(\"Sum of every row in transpose_array:\")\n",
        "print(transpose_row_sums)"
      ],
      "metadata": {
        "id": "lJWRxuplJ1R-",
        "colab": {
          "base_uri": "https://localhost:8080/"
        },
        "outputId": "28fb557c-abfd-48e1-875f-c985ab5ae629"
      },
      "execution_count": null,
      "outputs": [
        {
          "output_type": "stream",
          "name": "stdout",
          "text": [
            "2D Array (mat_array):\n",
            "[[71.41372587 28.53821694 29.24030947 45.77082003  8.79351262]\n",
            " [71.57143667 83.79267074 19.48923633 43.61204195 49.25447089]\n",
            " [56.68446046 20.13114988 56.4076322  67.27105838 43.49101508]\n",
            " [ 4.26022066  6.25920024  8.55850898  4.8815954  74.51641252]\n",
            " [78.82462068 40.63976151 91.06647363 77.46755937 52.13039833]\n",
            " [49.62066604 48.97953524 14.87584523 50.15536038 49.19624714]\n",
            " [67.84010559 78.5406989  29.55699171 84.23807669 36.58337412]\n",
            " [96.84164716 54.59464133 32.60706398 57.67566544 93.6812861 ]\n",
            " [79.1186448  77.62939274 87.58161685  5.53189865 98.83912411]\n",
            " [62.82371248 24.53590686 19.70581308 40.41267026 71.83024155]\n",
            " [30.1106449  27.69061161 31.83941805 67.13911323 92.12215215]\n",
            " [40.49292004 69.45393349 12.60635909 73.90044349 42.34693484]\n",
            " [11.42709985 87.05289306 34.10847035 59.7582173  76.64188837]\n",
            " [45.90241404 95.41170708  0.25356881 67.85860033 20.11445206]\n",
            " [85.49478589 22.51954252  9.85740002 28.52123581 93.52802239]\n",
            " [60.82332547 81.63313969 37.39492788 99.06549376 12.71458685]\n",
            " [70.43158801 61.93637194 77.50050417 63.46982495 66.29608781]\n",
            " [76.03911802 69.14145004 90.48050015 21.62911504 49.77847339]\n",
            " [14.09552487 93.68316142 97.40986028 58.94364328 19.63679438]\n",
            " [ 1.88083856 12.29793996 35.53549648 12.60259174 47.1201787 ]]\n",
            "Mean of every column:\n",
            "[53.784875   54.22309626 40.80379984 51.49525128 54.93078267]\n",
            "Sum of every row:\n",
            "[183.7565849324798, 267.7198565790284, 243.98531600561734, 98.47593779410414, 340.1288135165637, 212.82765402569402, 296.75924700426583, 335.40030401757014, 348.70067714208676, 219.30834424640318, 248.90193992872685, 238.80059095885179, 268.9885689294637, 229.54074232567896, 239.92098663531272, 291.63147365338995, 339.63437688838053, 307.06865664596927, 283.768984238858, 109.43704544300007]\n",
            "Transpose Array (transpose_array):\n",
            "[[71.41372587 71.57143667 56.68446046  4.26022066 78.82462068 49.62066604\n",
            "  67.84010559 96.84164716 79.1186448  62.82371248 30.1106449  40.49292004\n",
            "  11.42709985 45.90241404 85.49478589 60.82332547 70.43158801 76.03911802\n",
            "  14.09552487  1.88083856]\n",
            " [28.53821694 83.79267074 20.13114988  6.25920024 40.63976151 48.97953524\n",
            "  78.5406989  54.59464133 77.62939274 24.53590686 27.69061161 69.45393349\n",
            "  87.05289306 95.41170708 22.51954252 81.63313969 61.93637194 69.14145004\n",
            "  93.68316142 12.29793996]\n",
            " [29.24030947 19.48923633 56.4076322   8.55850898 91.06647363 14.87584523\n",
            "  29.55699171 32.60706398 87.58161685 19.70581308 31.83941805 12.60635909\n",
            "  34.10847035  0.25356881  9.85740002 37.39492788 77.50050417 90.48050015\n",
            "  97.40986028 35.53549648]\n",
            " [45.77082003 43.61204195 67.27105838  4.8815954  77.46755937 50.15536038\n",
            "  84.23807669 57.67566544  5.53189865 40.41267026 67.13911323 73.90044349\n",
            "  59.7582173  67.85860033 28.52123581 99.06549376 63.46982495 21.62911504\n",
            "  58.94364328 12.60259174]\n",
            " [ 8.79351262 49.25447089 43.49101508 74.51641252 52.13039833 49.19624714\n",
            "  36.58337412 93.6812861  98.83912411 71.83024155 92.12215215 42.34693484\n",
            "  76.64188837 20.11445206 93.52802239 12.71458685 66.29608781 49.77847339\n",
            "  19.63679438 47.1201787 ]]\n",
            "Dimensions of transpose_array: (5, 20)\n",
            "Mean of every column in transpose_array:\n",
            "[36.75131699 53.54397132 48.7970632  19.69518756 68.0257627  42.56553081\n",
            " 59.3518494  67.0800608  69.74013543 43.86166885 49.78038799 47.76011819\n",
            " 53.79771379 45.90814847 47.98419733 58.32629473 67.92687538 61.41373133\n",
            " 56.75379685 21.88740909]\n",
            "Sum of every row in transpose_array:\n",
            "[1075.69750007 1084.4619252   816.07599673 1029.9050255  1098.61565342]\n"
          ]
        }
      ]
    },
    {
      "cell_type": "code",
      "source": [
        "import numpy as np\n",
        "\n",
        "original = np.random.uniform(0, 100, 100)\n",
        "\n",
        "mat_array = original.reshape(20, 5)\n",
        "\n",
        "sliced_array_a = mat_array[2:10, :]\n",
        "\n",
        "print(\"Sliced Array (3rd-10th rows, all columns):\")\n",
        "print(sliced_array_a)\n",
        "\n",
        "sliced_array_b = mat_array[-5:, -2:]\n",
        "\n",
        "print(\"Sliced Array (last 5 rows, last 2 columns):\")\n",
        "print(sliced_array_b)\n",
        "print(\"Dimensions of sliced_array_b:\", sliced_array_b.shape)\n",
        "\n",
        "transpose_array = mat_array.T\n",
        "\n",
        "sliced_array_c = transpose_array[:3, -10:]\n",
        "\n",
        "print(\"Sliced Array (first 3 rows, last 10 columns of transpose_array):\")\n",
        "print(sliced_array_c)"
      ],
      "metadata": {
        "id": "FDYDgwc1Lyy1",
        "colab": {
          "base_uri": "https://localhost:8080/"
        },
        "outputId": "7cccaa49-63a3-47c5-b3cd-d8dfdd4c32f6"
      },
      "execution_count": null,
      "outputs": [
        {
          "output_type": "stream",
          "name": "stdout",
          "text": [
            "Sliced Array (3rd-10th rows, all columns):\n",
            "[[3.53619296e+00 5.36953148e+01 7.71250945e+01 8.35705524e+01\n",
            "  9.87830613e+01]\n",
            " [7.83169885e-01 3.86729767e+01 6.07993078e+01 6.37197799e+01\n",
            "  3.05594059e+01]\n",
            " [4.16679822e+01 6.17591800e+01 5.98451257e+01 7.60827214e+01\n",
            "  8.22417674e+00]\n",
            " [9.20117702e+01 3.28169768e+01 4.67450870e+01 4.63060115e+01\n",
            "  1.99458769e+01]\n",
            " [1.92755419e+01 9.24561776e+00 4.63171489e+01 5.50287676e+01\n",
            "  8.62859761e+01]\n",
            " [9.37892333e+01 1.96851582e+01 5.06015935e+01 7.54828837e+01\n",
            "  7.80722331e+01]\n",
            " [9.21832657e+01 2.77817449e+01 8.90444645e+01 7.51162476e-02\n",
            "  7.15420231e+01]\n",
            " [7.79400270e+01 5.09483257e+01 6.41480469e+01 7.11247029e+01\n",
            "  2.90688001e+01]]\n",
            "Sliced Array (last 5 rows, last 2 columns):\n",
            "[[95.2131832   3.74185593]\n",
            " [78.94155088 20.74086923]\n",
            " [41.01838458 94.73178282]\n",
            " [64.36618998  4.32482275]\n",
            " [20.03371264 49.03779428]]\n",
            "Dimensions of sliced_array_b: (5, 2)\n",
            "Sliced Array (first 3 rows, last 10 columns of transpose_array):\n",
            "[[16.90134702  0.67084033 52.48740361 73.49076167 24.22903068  5.09165058\n",
            "  20.23244367 47.42110102  8.66493296 18.95497411]\n",
            " [36.0533031  42.53209661 48.22394249 94.86017372 47.67062214 82.94362154\n",
            "   5.41854693  6.72173206 81.39359542 98.45476735]\n",
            " [39.26815767 74.83261788 57.86710052 50.3422615  33.17885504 25.46823184\n",
            "  92.8560096  99.7293032  28.64363518 35.52966198]]\n"
          ]
        }
      ]
    },
    {
      "cell_type": "code",
      "source": [],
      "metadata": {
        "id": "vyV9N3jpLyqP"
      },
      "execution_count": null,
      "outputs": []
    },
    {
      "cell_type": "code",
      "source": [],
      "metadata": {
        "id": "at-4INjLLyei"
      },
      "execution_count": null,
      "outputs": []
    },
    {
      "cell_type": "markdown",
      "source": [
        "### Q10. Assume you are inviting 15 friends to your party. You guest list has the following dietary preference.\n",
        "\n",
        "`diet = ['vegetarian', 'pescetarian', 'vegetarian', 'omnivore', 'pescetarian', 'keto', 'keto', 'vegan', 'omnivore', 'omnivore', 'vegan', 'omnivore', 'keto, 'vegetarian', 'vegan']`\n",
        "\n",
        "Their ages are as follows:\n",
        "\n",
        "`age = [21, 20, 19, 25, 27, 18, 23, 25, 19, 22, 20, 20, 23, 21, 24]`\n",
        "\n",
        "Create a list called `menu` which will contain 'veg. fried rice with whiskey' for vegans and vegetarians aged 21 and above,  'veg. fried rice with mocktail' for vegans and vegetarians aged below 21. Follow the same logic and assign fish and white wine to pescetarians of legal age (and fish with mocktail to those below 21). Keto and omnivore guests above 21 will have 'steak and red wine'. Complete the series with the appropriate drink for underage guests."
      ],
      "metadata": {
        "id": "cIhCARNRLzKy"
      }
    },
    {
      "cell_type": "code",
      "source": [
        "# Write your answer here.\n",
        "import numpy as np\n",
        "\n",
        "diet = ['vegetarian', 'pescetarian', 'vegetarian', 'omnivore', 'pescetarian', 'keto', 'keto', 'vegan', 'omnivore', 'omnivore', 'vegan', 'omnivore', 'keto', 'vegetarian', 'vegan']\n",
        "age = [21, 20, 19, 25, 27, 18, 23, 25, 19, 22, 20, 20, 23, 21, 24]\n",
        "\n",
        "menu = []\n",
        "\n",
        "for i in range(len(diet)):\n",
        "    if diet[i] in ['vegan', 'vegetarian']:\n",
        "        if age[i] >= 21:\n",
        "            menu.append('veg. fried rice with whiskey')\n",
        "        else:\n",
        "            menu.append('veg. fried rice with mocktail')\n",
        "    elif diet[i] == 'pescetarian':\n",
        "        if age[i] >= 21:\n",
        "            menu.append('fish and white wine')\n",
        "        else:\n",
        "            menu.append('fish with mocktail')\n",
        "    elif diet[i] in ['keto', 'omnivore']:\n",
        "        if age[i] >= 21:\n",
        "            menu.append('steak and red wine')\n",
        "        else:\n",
        "            menu.append('steak with mocktail')\n",
        "\n",
        "print(\"Menu for each guest:\")\n",
        "for i, item in enumerate(menu):\n",
        "    print(f\"Guest {i+1}: {item}\")\n",
        "\n"
      ],
      "metadata": {
        "id": "P7Xuiz6JOR5_",
        "colab": {
          "base_uri": "https://localhost:8080/"
        },
        "outputId": "a8e5ef11-b4d1-4ec6-d397-a6b76224e904"
      },
      "execution_count": null,
      "outputs": [
        {
          "output_type": "stream",
          "name": "stdout",
          "text": [
            "Menu for each guest:\n",
            "Guest 1: veg. fried rice with whiskey\n",
            "Guest 2: fish with mocktail\n",
            "Guest 3: veg. fried rice with mocktail\n",
            "Guest 4: steak and red wine\n",
            "Guest 5: fish and white wine\n",
            "Guest 6: steak with mocktail\n",
            "Guest 7: steak and red wine\n",
            "Guest 8: veg. fried rice with whiskey\n",
            "Guest 9: steak with mocktail\n",
            "Guest 10: steak and red wine\n",
            "Guest 11: veg. fried rice with mocktail\n",
            "Guest 12: steak with mocktail\n",
            "Guest 13: steak and red wine\n",
            "Guest 14: veg. fried rice with whiskey\n",
            "Guest 15: veg. fried rice with whiskey\n"
          ]
        }
      ]
    }
  ]
}